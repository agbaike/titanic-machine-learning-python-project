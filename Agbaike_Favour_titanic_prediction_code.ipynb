{
  "cells": [
    {
      "cell_type": "markdown",
      "metadata": {
        "id": "view-in-github",
        "colab_type": "text"
      },
      "source": [
        "<a href=\"https://colab.research.google.com/github/agbaike/titanic-machine-learning-python-project/blob/main/Agbaike_Favour_titanic_prediction_code.ipynb\" target=\"_parent\"><img src=\"https://colab.research.google.com/assets/colab-badge.svg\" alt=\"Open In Colab\"/></a>"
      ]
    },
    {
      "cell_type": "code",
      "source": [
        "# I will start by installing the liberies and model\n",
        "import pandas as pd\n",
        "from sklearn.model_selection import train_test_split\n",
        "from sklearn.ensemble import RandomForestClassifier\n",
        "from sklearn.metrics import accuracy_score"
      ],
      "metadata": {
        "id": "X6Vvo-GPvP4L"
      },
      "execution_count": null,
      "outputs": []
    },
    {
      "cell_type": "code",
      "source": [
        "# I will inport the data\n",
        "file_path = '/content/titanic31.xlsx'\n",
        "df = pd.read_excel(file_path)"
      ],
      "metadata": {
        "id": "arUglbQM4dJB"
      },
      "execution_count": null,
      "outputs": []
    },
    {
      "cell_type": "code",
      "source": [
        "# I will Print the initial columns and List columns to drop\n",
        "print(\"Initial columns:\", df.columns)\n",
        "columns_to_drop = ['name', 'ticket', 'cabin', 'boat', 'body', 'home.dest']"
      ],
      "metadata": {
        "id": "jEkxj-1Z49qS",
        "outputId": "6e4e70f3-e692-4ed9-8f9f-c8416afb8af4",
        "colab": {
          "base_uri": "https://localhost:8080/"
        }
      },
      "execution_count": null,
      "outputs": [
        {
          "output_type": "stream",
          "name": "stdout",
          "text": [
            "Initial columns: Index(['pclass', 'survived', 'name', 'sex', 'age', 'sibsp', 'parch', 'ticket',\n",
            "       'fare', 'cabin', 'embarked', 'boat', 'body', 'home.dest'],\n",
            "      dtype='object')\n"
          ]
        }
      ]
    },
    {
      "cell_type": "code",
      "source": [
        "# I am going to Check for column existence before dropping and then print columns after dropping the unwanted ones\n",
        "existing_columns_to_drop = [col for col in columns_to_drop if col in df.columns]\n",
        "df.drop(columns=existing_columns_to_drop, inplace=True)\n",
        "print(\"Columns after dropping unnecessary ones:\", df.columns)"
      ],
      "metadata": {
        "id": "DTq3rEqw5ZP7",
        "outputId": "3df66ec4-9aee-4c28-8bf9-1359dbd54ae3",
        "colab": {
          "base_uri": "https://localhost:8080/"
        }
      },
      "execution_count": null,
      "outputs": [
        {
          "output_type": "stream",
          "name": "stdout",
          "text": [
            "Columns after dropping unnecessary ones: Index(['pclass', 'survived', 'sex', 'age', 'sibsp', 'parch', 'fare',\n",
            "       'embarked'],\n",
            "      dtype='object')\n"
          ]
        }
      ]
    },
    {
      "cell_type": "code",
      "source": [
        "# Giving a commend to fill missing values for existing columns\n",
        "if 'age' in df.columns:\n",
        "    df['age'].fillna(df['age'].median(), inplace=True)\n",
        "if 'fare' in df.columns:\n",
        "    df['fare'].fillna(df['fare'].median(), inplace=True)\n",
        "if 'embarked' in df.columns:\n",
        "    df['embarked'].fillna(df['embarked'].mode()[0], inplace=True)"
      ],
      "metadata": {
        "id": "Iy_x8r7U6hD0"
      },
      "execution_count": null,
      "outputs": []
    },
    {
      "cell_type": "code",
      "source": [
        "# Converting categorical variables to numerical however, I am keeping original `sex` column, the print the columns after the changes\n",
        "df['is_male'] = df['sex'].apply(lambda x: 1 if x == 'male' else 0)\n",
        "print(\"Transformed columns:\", df.columns)"
      ],
      "metadata": {
        "id": "GI3bfN4Z7uCp",
        "outputId": "45e71852-7cd1-4de6-f87a-0baba9499a47",
        "colab": {
          "base_uri": "https://localhost:8080/"
        }
      },
      "execution_count": null,
      "outputs": [
        {
          "output_type": "stream",
          "name": "stdout",
          "text": [
            "Transformed columns: Index(['pclass', 'survived', 'sex', 'age', 'sibsp', 'parch', 'fare',\n",
            "       'embarked_Q', 'embarked_S', 'is_male'],\n",
            "      dtype='object')\n"
          ]
        }
      ]
    },
    {
      "cell_type": "code",
      "source": [
        "# Now definding the feature set and target variable, as well as Splitting the data into training and testing sets\n",
        "X = df.drop(columns=['survived', 'sex'])  # Drop the original `sex` column\n",
        "y = df['survived']\n",
        "X_train, X_test, y_train, y_test = train_test_split(X, y, test_size=0.2, random_state=42)\n"
      ],
      "metadata": {
        "id": "225Da__W7-wx"
      },
      "execution_count": null,
      "outputs": []
    },
    {
      "cell_type": "code",
      "source": [
        "# Now traning the model and Making predictions\n",
        "model = RandomForestClassifier(n_estimators=100, random_state=42)\n",
        "model.fit(X_train, y_train)\n",
        "y_pred = model.predict(X_test)"
      ],
      "metadata": {
        "id": "2brpFLl08t61"
      },
      "execution_count": null,
      "outputs": []
    },
    {
      "cell_type": "code",
      "source": [
        "# Since prediction are made, it is time to Create a dataframe with actual and predicted values\n",
        "results = X_test.copy()\n",
        "results['Actual'] = y_test\n",
        "results['Predicted'] = y_pred"
      ],
      "metadata": {
        "id": "ma0Jlhsd9Ad8"
      },
      "execution_count": null,
      "outputs": []
    },
    {
      "cell_type": "code",
      "source": [
        "# Saving the file to CSV and Print its accuracy\n",
        "results.to_csv('/content/favour_titanic_predictions.csv', index=False)\n",
        "accuracy = accuracy_score(y_test, y_pred)\n",
        "print(f\"Model Accuracy: {accuracy}\")"
      ],
      "metadata": {
        "id": "V3clFdhq9N1v",
        "outputId": "4b2b469a-854f-4b15-efa1-d15636bb9a65",
        "colab": {
          "base_uri": "https://localhost:8080/"
        }
      },
      "execution_count": null,
      "outputs": [
        {
          "output_type": "stream",
          "name": "stdout",
          "text": [
            "Model Accuracy: 0.7862595419847328\n"
          ]
        }
      ]
    },
    {
      "cell_type": "code",
      "source": [
        "# Now downloading the file\n",
        "from google.colab import files\n",
        "files.download('/content/favour_titanic_predictions.csv')"
      ],
      "metadata": {
        "id": "qGr3elo69jMr",
        "outputId": "cb4b0a90-9d4b-452f-82e7-e6dc4fb3a9df",
        "colab": {
          "base_uri": "https://localhost:8080/",
          "height": 17
        }
      },
      "execution_count": null,
      "outputs": [
        {
          "output_type": "display_data",
          "data": {
            "text/plain": [
              "<IPython.core.display.Javascript object>"
            ],
            "application/javascript": [
              "\n",
              "    async function download(id, filename, size) {\n",
              "      if (!google.colab.kernel.accessAllowed) {\n",
              "        return;\n",
              "      }\n",
              "      const div = document.createElement('div');\n",
              "      const label = document.createElement('label');\n",
              "      label.textContent = `Downloading \"${filename}\": `;\n",
              "      div.appendChild(label);\n",
              "      const progress = document.createElement('progress');\n",
              "      progress.max = size;\n",
              "      div.appendChild(progress);\n",
              "      document.body.appendChild(div);\n",
              "\n",
              "      const buffers = [];\n",
              "      let downloaded = 0;\n",
              "\n",
              "      const channel = await google.colab.kernel.comms.open(id);\n",
              "      // Send a message to notify the kernel that we're ready.\n",
              "      channel.send({})\n",
              "\n",
              "      for await (const message of channel.messages) {\n",
              "        // Send a message to notify the kernel that we're ready.\n",
              "        channel.send({})\n",
              "        if (message.buffers) {\n",
              "          for (const buffer of message.buffers) {\n",
              "            buffers.push(buffer);\n",
              "            downloaded += buffer.byteLength;\n",
              "            progress.value = downloaded;\n",
              "          }\n",
              "        }\n",
              "      }\n",
              "      const blob = new Blob(buffers, {type: 'application/binary'});\n",
              "      const a = document.createElement('a');\n",
              "      a.href = window.URL.createObjectURL(blob);\n",
              "      a.download = filename;\n",
              "      div.appendChild(a);\n",
              "      a.click();\n",
              "      div.remove();\n",
              "    }\n",
              "  "
            ]
          },
          "metadata": {}
        },
        {
          "output_type": "display_data",
          "data": {
            "text/plain": [
              "<IPython.core.display.Javascript object>"
            ],
            "application/javascript": [
              "download(\"download_d5f96c7a-d213-4f5e-8e2c-2cc642494f78\", \"favour_titanic_predictions.csv\", 9050)"
            ]
          },
          "metadata": {}
        }
      ]
    }
  ],
  "metadata": {
    "colab": {
      "provenance": [],
      "include_colab_link": true
    },
    "kernelspec": {
      "display_name": "Python 3",
      "name": "python3"
    }
  },
  "nbformat": 4,
  "nbformat_minor": 0
}