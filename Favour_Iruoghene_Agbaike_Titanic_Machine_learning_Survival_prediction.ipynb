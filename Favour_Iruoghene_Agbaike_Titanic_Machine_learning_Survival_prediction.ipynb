{
  "cells": [
    {
      "cell_type": "markdown",
      "metadata": {
        "id": "view-in-github",
        "colab_type": "text"
      },
      "source": [
        "<a href=\"https://colab.research.google.com/github/agbaike/titanic-machine-learning-python-project/blob/main/Favour_Iruoghene_Agbaike_Titanic_Machine_learning_Survival_prediction.ipynb\" target=\"_parent\"><img src=\"https://colab.research.google.com/assets/colab-badge.svg\" alt=\"Open In Colab\"/></a>"
      ]
    },
    {
      "cell_type": "code",
      "source": [
        "import pandas as pd\n",
        "from sklearn.model_selection import train_test_split\n",
        "from sklearn.preprocessing import LabelEncoder\n",
        "from sklearn.linear_model import LogisticRegression\n",
        "from sklearn.metrics import accuracy_score\n",
        "from google.colab import files\n",
        "\n",
        "# Load the provided Excel file\n",
        "file_path = '/content/titanic31.xlsx'  # Replace with your file path in Colab\n",
        "data = pd.read_excel(file_path)\n",
        "\n",
        "# Handling missing values\n",
        "data['age'].fillna(data['age'].median(), inplace=True)\n",
        "data['fare'].fillna(data['fare'].median(), inplace=True)\n",
        "data['embarked'].fillna(data['embarked'].mode()[0], inplace=True)\n",
        "\n",
        "# Ensure 'age' is numeric\n",
        "data['age'] = pd.to_numeric(data['age'], errors='coerce')\n",
        "\n",
        "# Verify 'age' is now numeric\n",
        "print(data['age'].dtype)  # Should be float64 or int64\n",
        "\n",
        "# Creating age bins\n",
        "bins = [0, 12, 18, 35, 60, 100]\n",
        "labels = ['Child', 'Teenager', 'Young Adult', 'Adult', 'Senior']\n",
        "data['age_bin'] = pd.cut(data['age'], bins=bins, labels=labels, right=False)\n",
        "\n",
        "# Encoding categorical variables\n",
        "sex_encoder = LabelEncoder()\n",
        "data['sex_encoded'] = sex_encoder.fit_transform(data['sex'])\n",
        "embarked_encoder = LabelEncoder()\n",
        "data['embarked_encoded'] = embarked_encoder.fit_transform(data['embarked'])\n",
        "\n",
        "# Selecting features\n",
        "features = ['pclass', 'sex_encoded', 'age', 'sibsp', 'parch', 'fare', 'embarked_encoded']\n",
        "X = data[features]\n",
        "y = data['survived']\n",
        "\n",
        "# Splitting the data into training and testing sets\n",
        "X_train, X_test, y_train, y_test = train_test_split(X, y, test_size=0.2, random_state=42)\n",
        "\n",
        "# Model training\n",
        "model = LogisticRegression(max_iter=1000)\n",
        "model.fit(X_train, y_train)\n",
        "\n",
        "# Generating predictions for the entire dataset\n",
        "data['predictions'] = model.predict(X)\n",
        "\n",
        "# Convert 'sex_encoded' back to original labels for final output\n",
        "data['sex'] = sex_encoder.inverse_transform(data['sex_encoded'])\n",
        "data['embarked'] = embarked_encoder.inverse_transform(data['embarked_encoded'])\n",
        "\n",
        "# Selecting relevant columns for Tableau\n",
        "tableau_data = data[['pclass', 'sex', 'age', 'age_bin', 'sibsp', 'parch', 'fare', 'embarked', 'survived', 'predictions']]\n",
        "\n",
        "# Verify the data types of the final DataFrame\n",
        "print(tableau_data.dtypes)\n",
        "\n",
        "# Save the data to a CSV file\n",
        "tableau_data.to_csv('titanic_predictions.csv', index=False)\n",
        "\n",
        "# Download the CSV file\n",
        "files.download('titanic_predictions.csv')\n"
      ],
      "metadata": {
        "colab": {
          "base_uri": "https://localhost:8080/",
          "height": 225
        },
        "id": "WgvB8sNepQdO",
        "outputId": "e4c2425c-92bc-4f37-eba9-94214d8fa22a"
      },
      "execution_count": null,
      "outputs": [
        {
          "output_type": "stream",
          "name": "stdout",
          "text": [
            "float64\n",
            "pclass            int64\n",
            "sex              object\n",
            "age             float64\n",
            "age_bin        category\n",
            "sibsp             int64\n",
            "parch             int64\n",
            "fare            float64\n",
            "embarked         object\n",
            "survived          int64\n",
            "predictions       int64\n",
            "dtype: object\n"
          ]
        },
        {
          "output_type": "display_data",
          "data": {
            "text/plain": [
              "<IPython.core.display.Javascript object>"
            ],
            "application/javascript": [
              "\n",
              "    async function download(id, filename, size) {\n",
              "      if (!google.colab.kernel.accessAllowed) {\n",
              "        return;\n",
              "      }\n",
              "      const div = document.createElement('div');\n",
              "      const label = document.createElement('label');\n",
              "      label.textContent = `Downloading \"${filename}\": `;\n",
              "      div.appendChild(label);\n",
              "      const progress = document.createElement('progress');\n",
              "      progress.max = size;\n",
              "      div.appendChild(progress);\n",
              "      document.body.appendChild(div);\n",
              "\n",
              "      const buffers = [];\n",
              "      let downloaded = 0;\n",
              "\n",
              "      const channel = await google.colab.kernel.comms.open(id);\n",
              "      // Send a message to notify the kernel that we're ready.\n",
              "      channel.send({})\n",
              "\n",
              "      for await (const message of channel.messages) {\n",
              "        // Send a message to notify the kernel that we're ready.\n",
              "        channel.send({})\n",
              "        if (message.buffers) {\n",
              "          for (const buffer of message.buffers) {\n",
              "            buffers.push(buffer);\n",
              "            downloaded += buffer.byteLength;\n",
              "            progress.value = downloaded;\n",
              "          }\n",
              "        }\n",
              "      }\n",
              "      const blob = new Blob(buffers, {type: 'application/binary'});\n",
              "      const a = document.createElement('a');\n",
              "      a.href = window.URL.createObjectURL(blob);\n",
              "      a.download = filename;\n",
              "      div.appendChild(a);\n",
              "      a.click();\n",
              "      div.remove();\n",
              "    }\n",
              "  "
            ]
          },
          "metadata": {}
        },
        {
          "output_type": "display_data",
          "data": {
            "text/plain": [
              "<IPython.core.display.Javascript object>"
            ],
            "application/javascript": [
              "download(\"download_49ffc2b0-56f6-4533-b262-655c5c76947a\", \"titanic_predictions.csv\", 50728)"
            ]
          },
          "metadata": {}
        }
      ]
    }
  ],
  "metadata": {
    "colab": {
      "provenance": [],
      "include_colab_link": true
    },
    "kernelspec": {
      "display_name": "Python 3",
      "name": "python3"
    }
  },
  "nbformat": 4,
  "nbformat_minor": 0
}